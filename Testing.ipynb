{
 "cells": [
  {
   "cell_type": "code",
   "execution_count": 1,
   "id": "c7bf9c82-5797-4d3b-a204-334dad0ace42",
   "metadata": {},
   "outputs": [
    {
     "name": "stdout",
     "output_type": "stream",
     "text": [
      "Model, scaler, and encoders loaded successfully!\n"
     ]
    }
   ],
   "source": [
    "import joblib\n",
    "import numpy as np\n",
    "\n",
    "# Load model, scaler, and encoders\n",
    "model = joblib.load(\"churn_model.pkl\")\n",
    "scaler = joblib.load(\"scaler.pkl\")\n",
    "label_encoders = joblib.load(\"label_encoders.pkl\")\n",
    "\n",
    "print(\"Model, scaler, and encoders loaded successfully!\")\n"
   ]
  },
  {
   "cell_type": "code",
   "execution_count": 2,
   "id": "d82851e3-3a2a-4348-ad79-679bd139faeb",
   "metadata": {},
   "outputs": [
    {
     "name": "stdout",
     "output_type": "stream",
     "text": [
      "Processed Input: [np.int64(1), 0.0, np.int64(1), np.int64(0), 12.0, np.int64(1), np.int64(0), np.int64(1), np.int64(0), np.int64(2), np.int64(0), np.int64(0), np.int64(2), np.int64(0), np.int64(0), np.int64(1), np.int64(2), 70.35, 845.5]\n"
     ]
    }
   ],
   "source": [
    "# Define a sample input (Make sure it matches expected features)\n",
    "sample_input = {\n",
    "    \"gender\": \"Male\",\n",
    "    \"SeniorCitizen\": 0,\n",
    "    \"Partner\": \"Yes\",\n",
    "    \"Dependents\": \"No\",\n",
    "    \"tenure\": 12,\n",
    "    \"PhoneService\": \"Yes\",\n",
    "    \"MultipleLines\": \"No\",\n",
    "    \"InternetService\": \"Fiber optic\",\n",
    "    \"OnlineSecurity\": \"No\",\n",
    "    \"OnlineBackup\": \"Yes\",\n",
    "    \"DeviceProtection\": \"No\",\n",
    "    \"TechSupport\": \"No\",\n",
    "    \"StreamingTV\": \"Yes\",\n",
    "    \"StreamingMovies\": \"No\",\n",
    "    \"Contract\": \"Month-to-month\",\n",
    "    \"PaperlessBilling\": \"Yes\",\n",
    "    \"PaymentMethod\": \"Electronic check\",\n",
    "    \"MonthlyCharges\": 70.35,\n",
    "    \"TotalCharges\": 845.5\n",
    "}\n",
    "\n",
    "# Convert categorical inputs using label encoders\n",
    "processed_input = []\n",
    "for feature, value in sample_input.items():\n",
    "    if feature in label_encoders:\n",
    "        value = label_encoders[feature].transform([value])[0]  # Encode categorical features\n",
    "    else:\n",
    "        value = float(value)  # Convert numeric values\n",
    "    processed_input.append(value)\n",
    "\n",
    "print(\"Processed Input:\", processed_input)\n"
   ]
  },
  {
   "cell_type": "code",
   "execution_count": 3,
   "id": "bf9e8966-7014-4229-afec-02ff41059300",
   "metadata": {},
   "outputs": [
    {
     "name": "stdout",
     "output_type": "stream",
     "text": [
      "Input after Scaling: [[ 0.97545208 -0.4377492   1.03137591 -0.65266232 -0.83419795  0.32957344\n",
      "  -1.00053704  0.17461833 -0.91539931  1.23000375 -1.02360939 -0.92148351\n",
      "   1.14070848 -1.12381376 -0.83177379  0.83332832  0.40252821  0.18233158\n",
      "  -0.63883621]]\n"
     ]
    },
    {
     "name": "stderr",
     "output_type": "stream",
     "text": [
      "C:\\Users\\rajat\\AppData\\Roaming\\Python\\Python310\\site-packages\\sklearn\\utils\\validation.py:2739: UserWarning: X does not have valid feature names, but StandardScaler was fitted with feature names\n",
      "  warnings.warn(\n"
     ]
    }
   ],
   "source": [
    "# Convert to NumPy array and scale\n",
    "input_array = np.array(processed_input).reshape(1, -1)\n",
    "input_array = scaler.transform(input_array)\n",
    "\n",
    "print(\"Input after Scaling:\", input_array)\n"
   ]
  },
  {
   "cell_type": "code",
   "execution_count": 4,
   "id": "27d7e835-5102-431c-9d72-e7ea98680d12",
   "metadata": {},
   "outputs": [
    {
     "name": "stdout",
     "output_type": "stream",
     "text": [
      "Predicted Churn Status: Churn\n"
     ]
    }
   ],
   "source": [
    "input_array = np.array(processed_input).reshape(1, -1)\n",
    "input_array = scaler.transform(input_array)\n",
    "\n",
    "print(\"Input after Scaling:\", input_array)\n",
    "# Make prediction\n",
    "prediction = model.predict(input_array)[0]\n",
    "\n",
    "# Output result\n",
    "print(\"Predicted Churn Status:\", \"Churn\" if prediction == 1 else \"No Churn\")\n"
   ]
  },
  {
   "cell_type": "code",
   "execution_count": null,
   "id": "6122d8f9-a207-47f9-a728-308444cac95d",
   "metadata": {},
   "outputs": [],
   "source": []
  }
 ],
 "metadata": {
  "kernelspec": {
   "display_name": "Python 3 (ipykernel)",
   "language": "python",
   "name": "python3"
  },
  "language_info": {
   "codemirror_mode": {
    "name": "ipython",
    "version": 3
   },
   "file_extension": ".py",
   "mimetype": "text/x-python",
   "name": "python",
   "nbconvert_exporter": "python",
   "pygments_lexer": "ipython3",
   "version": "3.10.11"
  }
 },
 "nbformat": 4,
 "nbformat_minor": 5
}
